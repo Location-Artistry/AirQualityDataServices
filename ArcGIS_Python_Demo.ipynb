{
  "nbformat": 4,
  "nbformat_minor": 0,
  "metadata": {
    "colab": {
      "name": "ArcGIS-Python-Demo.ipynb",
      "provenance": [],
      "authorship_tag": "ABX9TyOS7WXN19JlNpfYt0qm0BEM",
      "include_colab_link": true
    },
    "kernelspec": {
      "name": "python3",
      "display_name": "Python 3"
    },
    "widgets": {
      "application/vnd.jupyter.widget-state+json": {
        "462baae015fa4519998773066811a1b0": {
          "model_module": "arcgis-map-ipywidget",
          "model_name": "ArcGISMapIPyWidgetModel",
          "state": {
            "_view_name": "ArcGISMapIPyWidgetView",
            "_webmap": {
              "portalItem": {
                "id": "41281c51f9de45edaf1c8ed44bb10e30"
              }
            },
            "_trigger_new_jlab_window_with_args": {},
            "_webscene": {},
            "_scale": -1,
            "_uuid": "58bcdfe4-a30e-4224-a1cb-ac2d343e42ac",
            "_image_overlays_to_remove": [],
            "_view_module": "arcgis-map-ipywidget",
            "_extent": {
              "xmin": -118.8446,
              "ymin": 33.9879,
              "ymax": 34.0709,
              "xmax": -118.7681
            },
            "_model_module_version": "1.8.1",
            "_readonly_webmap_from_js": {},
            "_gallery_basemaps": {
              "default": {
                "baseMapLayers": [
                  {
                    "url": "https://services.arcgisonline.com/ArcGIS/rest/services/World_Topo_Map/MapServer",
                    "resourceInfo": {
                      "layers": [
                        {
                          "name": "Citations",
                          "maxScale": 0,
                          "defaultVisibility": false,
                          "parentLayerId": -1,
                          "id": 0,
                          "minScale": 0,
                          "subLayerIds": null
                        }
                      ],
                      "tables": [],
                      "exportTilesAllowed": false,
                      "supportedImageFormatTypes": "PNG32,PNG24,PNG,JPG,DIB,TIFF,EMF,PS,PDF,GIF,SVG,SVGZ,BMP",
                      "supportsDynamicLayers": false,
                      "initialExtent": {
                        "xmin": -28848255.049479112,
                        "ymin": -2077452.082122866,
                        "ymax": 16430757.376790084,
                        "xmax": 28848255.049479112,
                        "spatialReference": {
                          "wkid": 102100,
                          "latestWkid": 3857
                        }
                      },
                      "maxImageHeight": 4096,
                      "maxScale": 70.5310735,
                      "capabilities": "Map,Tilemap,Query,Data",
                      "spatialReference": {
                        "wkid": 102100,
                        "latestWkid": 3857
                      },
                      "mapName": "Layers",
                      "currentVersion": 10.3,
                      "maxRecordCount": 100,
                      "maxImageWidth": 4096,
                      "units": "esriMeters",
                      "fullExtent": {
                        "xmin": -20037507.067161843,
                        "ymin": -19971868.880408604,
                        "ymax": 19971868.88040863,
                        "xmax": 20037507.067161843,
                        "spatialReference": {
                          "wkid": 102100,
                          "latestWkid": 3857
                        }
                      },
                      "singleFusedMapCache": true,
                      "supportedQueryFormats": "JSON, AMF",
                      "minScale": 591657527.591555,
                      "supportedExtensions": "KmlServer",
                      "tileInfo": {
                        "origin": {
                          "y": 20037508.342787,
                          "x": -20037508.342787
                        },
                        "rows": 256,
                        "format": "JPEG",
                        "cols": 256,
                        "compressionQuality": 90,
                        "lods": [
                          {
                            "scale": 591657527.591555,
                            "resolution": 156543.03392800014,
                            "level": 0
                          },
                          {
                            "scale": 295828763.795777,
                            "resolution": 78271.51696399994,
                            "level": 1
                          },
                          {
                            "scale": 147914381.897889,
                            "resolution": 39135.75848200009,
                            "level": 2
                          },
                          {
                            "scale": 73957190.948944,
                            "resolution": 19567.87924099992,
                            "level": 3
                          },
                          {
                            "scale": 36978595.474472,
                            "resolution": 9783.93962049996,
                            "level": 4
                          },
                          {
                            "scale": 18489297.737236,
                            "resolution": 4891.96981024998,
                            "level": 5
                          },
                          {
                            "scale": 9244648.868618,
                            "resolution": 2445.98490512499,
                            "level": 6
                          },
                          {
                            "scale": 4622324.434309,
                            "resolution": 1222.992452562495,
                            "level": 7
                          },
                          {
                            "scale": 2311162.217155,
                            "resolution": 611.4962262813797,
                            "level": 8
                          },
                          {
                            "scale": 1155581.108577,
                            "resolution": 305.74811314055756,
                            "level": 9
                          },
                          {
                            "scale": 577790.554289,
                            "resolution": 152.87405657041106,
                            "level": 10
                          },
                          {
                            "scale": 288895.277144,
                            "resolution": 76.43702828507324,
                            "level": 11
                          },
                          {
                            "scale": 144447.638572,
                            "resolution": 38.21851414253662,
                            "level": 12
                          },
                          {
                            "scale": 72223.819286,
                            "resolution": 19.10925707126831,
                            "level": 13
                          },
                          {
                            "scale": 36111.909643,
                            "resolution": 9.554628535634155,
                            "level": 14
                          },
                          {
                            "scale": 18055.954822,
                            "resolution": 4.77731426794937,
                            "level": 15
                          },
                          {
                            "scale": 9027.977411,
                            "resolution": 2.388657133974685,
                            "level": 16
                          },
                          {
                            "scale": 4513.988705,
                            "resolution": 1.1943285668550503,
                            "level": 17
                          },
                          {
                            "scale": 2256.994353,
                            "resolution": 0.5971642835598172,
                            "level": 18
                          },
                          {
                            "scale": 1128.497176,
                            "resolution": 0.29858214164761665,
                            "level": 19
                          },
                          {
                            "scale": 564.248588,
                            "resolution": 0.14929107082380833,
                            "level": 20
                          },
                          {
                            "scale": 282.124294,
                            "resolution": 0.07464553541190416,
                            "level": 21
                          },
                          {
                            "scale": 141.062147,
                            "resolution": 0.03732276770595208,
                            "level": 22
                          },
                          {
                            "scale": 70.5310735,
                            "resolution": 0.01866138385297604,
                            "level": 23
                          }
                        ],
                        "spatialReference": {
                          "wkid": 102100,
                          "latestWkid": 3857
                        },
                        "dpi": 96
                      }
                    },
                    "layerType": "ArcGISTiledMapServiceLayer"
                  }
                ],
                "title": "Topographic"
              },
              "base": {
                "baseMapLayers": [
                  {
                    "opacity": 1,
                    "itemId": "1b243539f4514b6ba35e7d995890db1d",
                    "showLegend": true,
                    "title": "World Hillshade",
                    "url": "https://services.arcgisonline.com/arcgis/rest/services/Elevation/World_Hillshade/MapServer",
                    "visibility": true,
                    "layerType": "ArcGISTiledMapServiceLayer",
                    "id": "World_Hillshade_8157"
                  },
                  {
                    "itemId": "86d5ed4b6dc741de9dad5f0fbe09ae95",
                    "opacity": 1,
                    "title": "World Topographic Map",
                    "visibility": true,
                    "styleUrl": "https://www.arcgis.com/sharing/rest/content/items/86d5ed4b6dc741de9dad5f0fbe09ae95/resources/styles/root.json",
                    "layerType": "VectorTileLayer",
                    "type": "VectorTileLayer",
                    "id": "VectorTile_1579"
                  }
                ],
                "title": "World Topographic Map"
              }
            },
            "_center": {},
            "print_service_url": "",
            "tab_mode": "auto",
            "ready": false,
            "_trigger_print_js_debug_info": "",
            "_basemap": "base",
            "_readonly_heading": 0,
            "_model_module": "arcgis-map-ipywidget",
            "_overlay_this_image": {},
            "_snap_to_zoom": true,
            "_link_writeonly_tilt": 0,
            "_link_writeonly_rotation": 0,
            "layout": "IPY_MODEL_8bdc6a9263444649b9f1c10398c17cac",
            "_model_name": "ArcGISMapIPyWidgetModel",
            "_zoom": -1,
            "_view_module_version": "1.8.1",
            "jupyter_target": "",
            "_readonly_extent": {},
            "_portal_token": "",
            "_portal_sharing_rest_url": "https://www.arcgis.com/sharing/rest/",
            "_tilt": 0,
            "_username": "None",
            "_readonly_center": {},
            "_dom_classes": [],
            "_preview_screenshot_callback_resp": "",
            "_heading": 0,
            "_trigger_webscene_save_to_this_portal_id": "",
            "_readonly_zoom": -1,
            "_js_cdn_override": "",
            "_link_writeonly_extent": {},
            "_center_long_lat": [],
            "_overlay_these_images_on_widget_load": [],
            "_link_writeonly_heading": 0,
            "_add_this_graphic": {},
            "_readonly_scale": -1,
            "_view_count": null,
            "legend": false,
            "_draw_these_notype_layers_on_widget_load": [],
            "_auth_mode": "anonymous",
            "_portal_url": "https://www.arcgis.com",
            "hide_mode_switch": true,
            "_draw_these_graphics_on_widget_load": [],
            "_trigger_screenshot_with_args": {},
            "_trigger_interactive_draw_mode_for": "",
            "_custom_msg": "",
            "_rotation": 0,
            "_cell_output_screenshot_callback_resp": "",
            "_readonly_tilt": 0,
            "mode": "2D",
            "_readonly_rotation": 0,
            "_file_output_screenshot_callback_resp": "",
            "_layers_to_remove": [],
            "_add_this_notype_layer": {}
          }
        }
      }
    }
  },
  "cells": [
    {
      "cell_type": "markdown",
      "metadata": {
        "id": "view-in-github",
        "colab_type": "text"
      },
      "source": [
        "<a href=\"https://colab.research.google.com/github/Location-Artistry/AirQualityDataServices/blob/master/ArcGIS_Python_Demo.ipynb\" target=\"_parent\"><img src=\"https://colab.research.google.com/assets/colab-badge.svg\" alt=\"Open In Colab\"/></a>"
      ]
    },
    {
      "cell_type": "code",
      "metadata": {
        "id": "fhTqSsIHaoCs",
        "colab_type": "code",
        "colab": {}
      },
      "source": [
        "# install arcgis library ArcGIS API for Python\n",
        "!pip install arcgis\n"
      ],
      "execution_count": null,
      "outputs": []
    },
    {
      "cell_type": "code",
      "metadata": {
        "id": "5zAoWnjtbOAr",
        "colab_type": "code",
        "colab": {
          "base_uri": "https://localhost:8080/",
          "height": 34,
          "referenced_widgets": [
            "462baae015fa4519998773066811a1b0"
          ]
        },
        "outputId": "9c36fb2c-c018-492c-d769-48d9ea1ac872"
      },
      "source": [
        "# test install of ArcGIS Python API\n",
        "from arcgis.gis import GIS\n",
        "from arcgis.mapping import WebMap\n",
        "gis = GIS()\n",
        "webmap = gis.content.get('41281c51f9de45edaf1c8ed44bb10e30')\n",
        "webmap\n",
        "la_parks_trails = WebMap(webmap)\n",
        "la_parks_trails\n",
        "#sf_map = WebMap(\"San Francisco\")\n",
        "#sf_map"
      ],
      "execution_count": 25,
      "outputs": [
        {
          "output_type": "display_data",
          "data": {
            "application/vnd.jupyter.widget-view+json": {
              "model_id": "462baae015fa4519998773066811a1b0",
              "version_minor": 0,
              "version_major": 2
            },
            "text/plain": [
              "MapView(hide_mode_switch=True, layout=Layout(height='400px', width='100%'))"
            ]
          },
          "metadata": {
            "tags": []
          }
        },
        {
          "output_type": "display_data",
          "data": {
            "text/html": [
              "<div class=\"map-static-img-preview-58bcdfe4-a30e-4224-a1cb-ac2d343e42ac\"><img src=\"\"></img></div>"
            ],
            "text/plain": [
              "<IPython.core.display.HTML object>"
            ]
          },
          "metadata": {
            "tags": []
          }
        }
      ]
    },
    {
      "cell_type": "code",
      "metadata": {
        "id": "RS3ydfRcogWc",
        "colab_type": "code",
        "colab": {}
      },
      "source": [
        ""
      ],
      "execution_count": null,
      "outputs": []
    }
  ]
}